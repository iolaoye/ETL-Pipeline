{
 "cells": [
  {
   "cell_type": "code",
   "execution_count": null,
   "id": "50bbbcc9",
   "metadata": {},
   "outputs": [],
   "source": [
    "#This an ETL pipeline for disaster data cleaning and preparation for an ML pipeline\n",
    "# import libraries\n",
    "import pandas as pd\n",
    "import numpy as np"
   ]
  },
  {
   "cell_type": "code",
   "execution_count": null,
   "id": "99fd3d19",
   "metadata": {},
   "outputs": [],
   "source": [
    "# load messages dataset\n",
    "messages = pd.read_csv(\"C:\\\\Users\\\\debo_\\\\Desktop\\\\ML\\\\Projects_for_Udacity_Data_science\\\\ETL_Pipeline_disaster_response\\\\data\\\\disaster_messages.csv\")\n",
    "messages.head()"
   ]
  },
  {
   "cell_type": "code",
   "execution_count": null,
   "id": "0c20abd6",
   "metadata": {},
   "outputs": [],
   "source": [
    "messages.shape"
   ]
  },
  {
   "cell_type": "code",
   "execution_count": null,
   "id": "e8ce8081",
   "metadata": {},
   "outputs": [],
   "source": [
    "# load categories dataset\n",
    "categories = pd.read_csv(\"C:\\\\Users\\\\debo_\\\\Desktop\\\\ML\\\\Projects_for_Udacity_Data_science\\\\ETL_Pipeline_disaster_response\\\\data\\\\disaster_categories.csv\")\n",
    "categories.head()"
   ]
  },
  {
   "cell_type": "code",
   "execution_count": null,
   "id": "c7038200",
   "metadata": {},
   "outputs": [],
   "source": [
    "categories.shape"
   ]
  },
  {
   "cell_type": "code",
   "execution_count": null,
   "id": "701c9d52",
   "metadata": {},
   "outputs": [],
   "source": [
    "# merge datasets\n",
    "df=pd.merge(messages, categories, on=\"id\")\n",
    "df"
   ]
  },
  {
   "cell_type": "code",
   "execution_count": null,
   "id": "a54e7076",
   "metadata": {},
   "outputs": [],
   "source": [
    "#Split categories into separate category columns.\n",
    "# create a dataframe of the 36 individual category columns\n",
    "#df_final['categories'].str.split(';', expand=True)\n",
    "categories = df['categories'].str.split(';', expand=True)\n",
    "categories.head()"
   ]
  },
  {
   "cell_type": "code",
   "execution_count": null,
   "id": "2021b5b9",
   "metadata": {},
   "outputs": [],
   "source": [
    "row = categories.iloc[0]"
   ]
  },
  {
   "cell_type": "code",
   "execution_count": null,
   "id": "ef0123cb",
   "metadata": {},
   "outputs": [],
   "source": [
    "# select the first row of the categories dataframe\n",
    "\n",
    "row_1=categories.head(1)\n",
    "row = categories.iloc[0]\n",
    "categories.columns=row\n",
    "# use this row to extract a list of new column names for categories.\n",
    "# one way is to apply a lambda function that takes everything \n",
    "# up to the second to last character of each string with slicing\n",
    "category_colnames = categories.columns\n",
    "print(category_colnames)"
   ]
  },
  {
   "cell_type": "code",
   "execution_count": null,
   "id": "989b517c",
   "metadata": {},
   "outputs": [],
   "source": [
    "# rename the columns of `categories`\n",
    "categories.columns = category_colnames\n",
    "categories.head()"
   ]
  },
  {
   "cell_type": "code",
   "execution_count": null,
   "id": "58b7f92c",
   "metadata": {},
   "outputs": [],
   "source": [
    "#Convert category values to just numbers 0 or 1\n",
    "for column in categories:\n",
    "    # set each value to be the last character of the string\n",
    "    categories[column] = df.categories.astype(str).str[-1:]\n",
    "    \n",
    "# convert column from string to numeric\n",
    "categories[column] =  categories[column].astype(np.int64)\n",
    "categories"
   ]
  },
  {
   "cell_type": "code",
   "execution_count": null,
   "id": "1521464c",
   "metadata": {},
   "outputs": [],
   "source": [
    "#Replace categories column in df with new category columns.\n",
    "# drop the original categories column from `df`\n",
    "df.drop('categories', axis=1, inplace=True)\n",
    "df.head()"
   ]
  },
  {
   "cell_type": "code",
   "execution_count": null,
   "id": "a32c9d62",
   "metadata": {},
   "outputs": [],
   "source": [
    "# concatenate the original dataframe with the new `categories` dataframe \n",
    "df = pd.concat([df, categories], axis =1)\n",
    "df\n",
    "#df.to_csv(\"C:\\\\Users\\\\debo_\\\\Desktop\\\\ML\\\\Projects_for_Udacity_Data_science\\\\ETL_Pipeline_disaster_response\\\\data\\\\disasterC2.csv\")"
   ]
  },
  {
   "cell_type": "code",
   "execution_count": null,
   "id": "cae6ef3d",
   "metadata": {},
   "outputs": [],
   "source": [
    "#Remove duplicates.\n",
    "# check number of duplicates\n",
    "duplicateRows = df[df.duplicated()]\n",
    "duplicateRows"
   ]
  },
  {
   "cell_type": "code",
   "execution_count": null,
   "id": "1158a44c",
   "metadata": {},
   "outputs": [],
   "source": [
    "#to display the first duplicate rows instead of the last\n",
    "duplicateRows_first = df[df.duplicated(keep='last')]\n",
    "duplicateRows_first"
   ]
  },
  {
   "cell_type": "code",
   "execution_count": null,
   "id": "2d961927",
   "metadata": {},
   "outputs": [],
   "source": [
    "# drop duplicates\n",
    "df2 = df.drop_duplicates(keep='first')\n",
    "df2"
   ]
  },
  {
   "cell_type": "code",
   "execution_count": null,
   "id": "68b18802",
   "metadata": {},
   "outputs": [],
   "source": [
    "# check number of duplicates again\n",
    "duplicaterows = df2[df2.duplicated()]\n",
    "duplicaterows"
   ]
  },
  {
   "cell_type": "code",
   "execution_count": null,
   "id": "0be9e492",
   "metadata": {},
   "outputs": [],
   "source": [
    "#Save the clean dataset into an sqlite database\n",
    "import sqlite3 as db\n",
    "from sqlalchemy import create_engine\n",
    "engine = create_engine('sqlite:///clean_disasterC.db')\n",
    "df2.to_sql('MCat', engine, index=False)"
   ]
  }
 ],
 "metadata": {
  "kernelspec": {
   "display_name": "Python 3 (ipykernel)",
   "language": "python",
   "name": "python3"
  },
  "language_info": {
   "codemirror_mode": {
    "name": "ipython",
    "version": 3
   },
   "file_extension": ".py",
   "mimetype": "text/x-python",
   "name": "python",
   "nbconvert_exporter": "python",
   "pygments_lexer": "ipython3",
   "version": "3.9.12"
  }
 },
 "nbformat": 4,
 "nbformat_minor": 5
}
